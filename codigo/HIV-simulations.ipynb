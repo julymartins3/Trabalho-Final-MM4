{
 "cells": [
  {
   "cell_type": "code",
   "execution_count": 1,
   "metadata": {},
   "outputs": [],
   "source": [
    "def S(V, B_s):\n",
    "    return 10 - 7*V/(B_s+V)\n",
    "    \n",
    "\n",
    "def NoTreatmentSys(t, y, params):\n",
    "    mu_T, mu_T_i, k_s, k_nu, p, p_i, C, C_i, G_s, B, B_s, N = params\n",
    "    T, T_s, V_s = y\n",
    "    return [S(V_s, B_s) - mu_T*T + T*p*V_s/(C+V_s) - k_s*V_s*T,\n",
    "            k_s*V_s*T - mu_T_i*T_s - p_i*T_s*V_s/(C_i+V_s),\n",
    "            N*p_i*T_s*V_s/(C_i+V_s) - k_nu*T*V_s + G_s*V_s/(B+V_s)]"
   ]
  },
  {
   "cell_type": "code",
   "execution_count": 2,
   "metadata": {},
   "outputs": [],
   "source": [
    "# No treatment scenarios\n",
    "\n",
    "scenario = 3\n",
    "\n",
    "if scenario == 1:\n",
    "    ymax = 20\n",
    "    G_s = 80.0\n",
    "    t_max = 14\n",
    "    n_points = 1000\n",
    "elif scenario == 2:\n",
    "    y_max = 20\n",
    "    G_s = 180.0\n",
    "    t_max = 1225\n",
    "    n_points = 3000\n",
    "elif scenario == 3:\n",
    "    y_max = 600\n",
    "    G_s = 330.0\n",
    "    t_max = 2100\n",
    "    n_points = 6000\n",
    "\n",
    "# Article values for parameters\n",
    "# params = (0.01, # mu_T\n",
    "#           0.5,  # mu_T_i\n",
    "#           2.5e-4, # k_s\n",
    "#           0.01, # k_nu\n",
    "#           0.5, # p\n",
    "#           0.5, # p_i\n",
    "#           188.0, # C\n",
    "#           188.0, # C_i\n",
    "#           G_s, # G_s\n",
    "#           8.0, # B\n",
    "#           55.0, # B_s\n",
    "#           10.0, # N\n",
    "#          )\n",
    "\n",
    "params = (0.01, # mu_T\n",
    "          0.5,  # mu_T_i\n",
    "          2.5e-3, # k_s\n",
    "          0.01, # k_nu\n",
    "          0.5, # p\n",
    "          0.5, # p_i\n",
    "          188.0, # C\n",
    "          188.0, # C_i\n",
    "          G_s, # G_s\n",
    "          8.0, # B\n",
    "          55.0, # B_s\n",
    "          10.0, # N\n",
    "         )\n",
    "\n",
    "Solver = ode_solver()\n",
    "Solver.algorithm = \"rk8pd\"\n",
    "Solver.function = NoTreatmentSys\n",
    "Solver.ode_solve(y_0 = [1000.0, 0.0, 10.0], t_span=[0.0, t_max], params=params, num_points=n_points)"
   ]
  },
  {
   "cell_type": "code",
   "execution_count": null,
   "metadata": {},
   "outputs": [],
   "source": [
    "S(10, 55) - 0.01*1000 + 1000*0.5*10/(188+10) - 2.5e-4*10*1000"
   ]
  },
  {
   "cell_type": "code",
   "execution_count": null,
   "metadata": {},
   "outputs": [],
   "source": [
    "Solver.plot_solution(i=2, color=\"red\", axes_labels=[\"$t$\", \"$V_s(t)$\"])#, ymin=0, ymax=ymax)\n",
    "Solver.plot_solution(i=0, color=\"green\", axes_labels=[\"$t$\", \"$T(t)$\"])#, ymin=0, ymax=1100)\n",
    "Solver.plot_solution(i=1, color=\"blue\", axes_labels=[\"$t$\", \"$T_s(t)$\"])"
   ]
  },
  {
   "cell_type": "code",
   "execution_count": null,
   "metadata": {},
   "outputs": [],
   "source": [
    "T = list_plot([ (state[0], state[1][0]) for state in Solver.solution],\n",
    "              color=\"blue\",\n",
    "              pointsize=10,\n",
    "              legend_label=\"T\",\n",
    "              ymin=0,\n",
    "              ymax = 1100)\n",
    "V = list_plot([ (state[0], state[1][2]) for state in Solver.solution],\n",
    "              color=\"red\",\n",
    "              pointsize=10,\n",
    "              legend_label=\"V\",\n",
    "              ymin=0,\n",
    "              ymax=20)\n",
    "T_s = list_plot([ (state[0], state[1][1]) for state in Solver.solution],\n",
    "                color=\"green\",\n",
    "                pointsize=10,\n",
    "                legend_label=\"T_s\")\n",
    "T.legend()\n",
    "V.legend()\n",
    "show(T)\n",
    "show(V)\n",
    "show(T_s)"
   ]
  },
  {
   "cell_type": "code",
   "execution_count": null,
   "metadata": {},
   "outputs": [],
   "source": [
    "1 * 1 * 1 / ( 1 + 1 ) - 3 / 4 + 1 / 2"
   ]
  },
  {
   "cell_type": "code",
   "execution_count": null,
   "metadata": {},
   "outputs": [],
   "source": [
    "2.5e-4"
   ]
  },
  {
   "cell_type": "code",
   "execution_count": null,
   "metadata": {},
   "outputs": [],
   "source": []
  }
 ],
 "metadata": {
  "kernelspec": {
   "display_name": "SageMath 9.0",
   "language": "sage",
   "name": "sagemath"
  },
  "language_info": {
   "codemirror_mode": {
    "name": "ipython",
    "version": 3
   },
   "file_extension": ".py",
   "mimetype": "text/x-python",
   "name": "python",
   "nbconvert_exporter": "python",
   "pygments_lexer": "ipython3",
   "version": "3.8.10"
  }
 },
 "nbformat": 4,
 "nbformat_minor": 4
}
