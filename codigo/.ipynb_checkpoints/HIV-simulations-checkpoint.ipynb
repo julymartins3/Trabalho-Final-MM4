{
 "cells": [
  {
   "cell_type": "code",
   "execution_count": 63,
   "metadata": {},
   "outputs": [],
   "source": [
    "def S(t, V, B_s):\n",
    "    return 10 - 7 * V / (B_s + V)\n",
    "    \n",
    "\n",
    "def NoTreatmentSys(t, y, params):\n",
    "    mu_T, mu_T_i, k_s, k_nu, p, p_i, C, C_i, G_s, B, B_s, N = params\n",
    "    T, T_s, V_s = y\n",
    "    return [S(t, V_s, B_s) - mu_T*T + p*T*V_s/(C+V_s) - k_s*V_s*T,\n",
    "            k_s*V_s*T - mu_T_i*T_s - p_i*T_s*V_s/(C_i+V_s),\n",
    "            N*p_i*T_s*V_s/(C_i+V_s) - k_nu*T*V_s + G_s*V_s/(B+V_s)]"
   ]
  },
  {
   "cell_type": "code",
   "execution_count": 61,
   "metadata": {},
   "outputs": [],
   "source": [
    "# Article values for parameters\n",
    "params = (0.01, # mu_T\n",
    "          0.5,  # mu_T_i\n",
    "          2.5e-4, # k_s\n",
    "          0.01, # k_nu\n",
    "          0.5, # p\n",
    "          0.5, # p_i\n",
    "          188.0, # C\n",
    "          188.0, # C_i\n",
    "          180.0, # G_s\n",
    "          8.0, # B\n",
    "          55.0, # B_s\n",
    "          10.0, # N\n",
    "         )\n",
    "\n",
    "Solver = ode_solver()\n",
    "Solver.algorithm = \"rkf45\"\n",
    "Solver.function = NoTreatmentSys\n",
    "Solver.ode_solve(y_0 = [1000.0, 0.0, 10.0], t_span=[0.0, 1100], params=params, num_points=5000)"
   ]
  },
  {
   "cell_type": "code",
   "execution_count": 62,
   "metadata": {},
   "outputs": [
    {
     "data": {
      "image/png": "[encoded data removed]",
      "text/plain": [
       "Graphics object consisting of 2 graphics primitives"
      ]
     },
     "metadata": {},
     "output_type": "display_data"
    }
   ],
   "source": [
    "T = list_plot([ (state[0], state[1][0]) for state in Solver.solution], color=\"blue\", pointsize=20, legend_label=\"T\", alpha=.8)\n",
    "V = list_plot([ (state[0], state[1][2]) for state in Solver.solution], color=\"red\", pointsize=20, legend_label=\"V\", alpha=.8)\n",
    "T.legend()\n",
    "V.legend()\n",
    "show(T + V)"
   ]
  },
  {
   "cell_type": "code",
   "execution_count": 54,
   "metadata": {},
   "outputs": [
    {
     "data": {
      "text/plain": [
       "1/4"
      ]
     },
     "execution_count": 54,
     "metadata": {},
     "output_type": "execute_result"
    }
   ],
   "source": [
    "1 * 1 * 1 / ( 1 + 1 ) - 3 / 4 + 1 / 2"
   ]
  },
  {
   "cell_type": "code",
   "execution_count": null,
   "metadata": {},
   "outputs": [],
   "source": []
  }
 ],
 "metadata": {
  "kernelspec": {
   "display_name": "SageMath 9.0",
   "language": "sage",
   "name": "sagemath"
  },
  "language_info": {
   "codemirror_mode": {
    "name": "ipython",
    "version": 3
   },
   "file_extension": ".py",
   "mimetype": "text/x-python",
   "name": "python",
   "nbconvert_exporter": "python",
   "pygments_lexer": "ipython3",
   "version": "3.8.10"
  }
 },
 "nbformat": 4,
 "nbformat_minor": 4
}
